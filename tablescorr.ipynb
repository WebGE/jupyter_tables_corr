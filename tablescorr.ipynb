{
 "cells": [
  {
   "cell_type": "markdown",
   "metadata": {},
   "source": [
    "# Du traitement des donnée en tables aux bases de données - <span style=\"color:blue;\">CORRECTION</span>"
   ]
  },
  {
   "cell_type": "markdown",
   "metadata": {},
   "source": [
    "**Ressources** : <button><a href=\"https://info.blaisepascal.fr/nsi-traitement-des-donnees-en-tables\" target=\"_blank\">Traitement de données en tables</a></button> <button><a href=\"https://webge.fr/dokuwiki/doku.php?id=python:accueilpython\" target=\"_blank\">Wiki Python sur WebGE</button>"
   ]
  },
  {
   "cell_type": "markdown",
   "metadata": {},
   "source": [
    "**Sommaire**\n",
    "<ol>\n",
    "    <li>Généralités</li>\n",
    "    <ol>\n",
    "        <li>Historique</li>\n",
    "        <li>Organisation d'une table</li>\n",
    "        <li>Objectifs</li>\n",
    "    </ol>\n",
    "    <li>Construction d'une table et traitement de ses données</li>\n",
    "    <ol>\n",
    "        <li>Construction</li>\n",
    "        <li>Traitement des données</li>\n",
    "    </ol>\n",
    "</ol>\n",
    "\n",
    "----"
   ]
  },
  {
   "cell_type": "markdown",
   "metadata": {},
   "source": [
    "<table>\n",
    "    <tr>\n",
    "        <td><img src=\"img/bdd50px.png\"></td>\n",
    "        <td style=\"text-align:justify; font-size:14px; color:blue;\">Cette activité est un préalable aux travaux pratiques sur les <strong>bases de données relationnelles</strong>. Le vocabulaire utilisé (<strong>schéma, attribut, enregistrement, requête, etc.</strong>) est celui employé lors de leur interrogation. A la fin de chaque exercice, la référence faite aux bases de données est identifiée par l'icône ci-contre.</span>\n",
    "        </td>\n",
    "    </tr>\n",
    "</table>"
   ]
  },
  {
   "cell_type": "markdown",
   "metadata": {},
   "source": [
    "## 1. Généralités\n",
    "### 1.1 Historique\n",
    "<table>\n",
    "    <tr>\n",
    "        <td style=\"text-align:left; font-size:14px\"><p>L'<strong>organisation tabulaire des données</strong> est très répandue. Les tables documentées les plus anciennes sont des livres de comptes déjà présents dans l'<strong>Égypte des pharaons</strong>. </p><p><strong>Aujourd'hui</strong>, cette organisation est utilisée par les bulletins scolaires, les résultats de match ou les relevés d'un compte bancaire qui indiquent pour chaque opération, sa date, son montant et sa nature (débit ou crédit).</p><p>En informatique, la manipulation de <strong>données en tables</strong> depuis un langage de programmation est utilisée dans de nombreux domaines : <strong>calcul scientifique, intelligence artificielle, programmation Web, bio-informatique, informatique financière, etc</strong>. </p> \n",
    "        </td>\n",
    "        <td> <img src=\"img/papyrus.png\" title=\"Livre de comptes - Egypte ancienne\"></td>\n",
    "    </tr> \n",
    "</table>"
   ]
  },
  {
   "cell_type": "markdown",
   "metadata": {},
   "source": [
    "### 1.2 Organisation d'une table\n",
    "Dans ce notebook, les tables représentent des **collections d'éléments**. Une **ligne** est un élément enregistré dans la collection ou **enregistrement**. Les **colonnes** sont les **attributs** d'un élément (également notées champs ou descripteurs). La première ligne est le **schéma de la table**.\n",
    "\n",
    "<div style=\"text-align:center\"><img src=\"img/table.png\"></div>"
   ]
  },
  {
   "cell_type": "markdown",
   "metadata": {},
   "source": [
    "### 1.3 Objectifs\n",
    "On veut **construire** la table de données ci-dessous à partir d'un fichier <a href=\"https://fr.wikipedia.org/wiki/Comma-separated_values\" target=\"_blank\">CSV</a> et **coder** des **requêtes** en Python répondant à des **interrogations** telles que :\n",
    "* Le prénom \"Brian\" est-il dans la table ?\n",
    "* Quels scientifiques ont pour prénom Alan ?\n",
    "* Quels sont le nom et le prénom des scientifiques nés entre 1900 et 1920,\n",
    "etc.\n",
    "\n",
    "<div style=\"text-align:center\"><img src=\"img/scientifiques.png\" title=\"table partielle\"></div>"
   ]
  },
  {
   "cell_type": "markdown",
   "metadata": {},
   "source": [
    "## 2. Construction d'une table et traitement de ses données\n",
    "### 2.1 Construction\n",
    "La première opération concernant les données en table est le **chargement des données**. Celles-ci sont souvent chargées à partir d'un fichier au format <a href=\"https://fr.wikipedia.org/wiki/Comma-separated_values\" target=\"_blank\">CSV</a> (**Comma-Separated Values**) relativement simple :\n",
    "* les fichiers CSV sont des fichiers texte,\n",
    "* chaque ligne du fichier correspond à une ligne de la table,\n",
    "* chaque ligne est séparée en champs au moyen d'une virgule, d'un point-virgule ou d'une barre verticale,\n",
    "* toutes les lignes du fichier ont le même nombre d'attributs,\n",
    "* la première ligne peut représenter des noms d'attributs ou commencer directement avec les données,\n",
    "* on peut utiliser des guillemets pour délimiter le contenu des attributs.\n",
    "\n",
    "La **bibliothèque standard** Python propose un module **csv** contenant des fonctions pour lire et écrire des fichiers CSV."
   ]
  },
  {
   "cell_type": "markdown",
   "metadata": {},
   "source": [
    "Le code suivant charge le contenu du fichier *scientifiques.csv* dans une variable nommée *scientifiques*. **Exécutez-le**."
   ]
  },
  {
   "cell_type": "code",
   "execution_count": null,
   "metadata": {},
   "outputs": [],
   "source": [
    "import csv\n",
    "with open('scientifiques.csv',encoding='utf-8') as fichier:\n",
    "    scientifiques = list(csv.DictReader(fichier, delimiter=\";\"))\n",
    "print(scientifiques)"
   ]
  },
  {
   "cell_type": "markdown",
   "metadata": {},
   "source": [
    "<table>\n",
    "    <tr>\n",
    "        <td><img src=\"img/info.png\"></td>\n",
    "        <td style=\"text-align:left; font-size:14px;\">La fonction <strong>DictReader</strong> renvoie des dictionnaires <a href=\"https://docs.python.org/fr/3/library/collections.html\" target=\"_blank\">ordonnés</a> que nous utiliserons comme des dictionnaires. La variable <em><strong>scientifiques</strong></em> contient donc un tableau de dictionnaires. On constate que le <strong>schéma de la table</strong> n'est pas stocké dans le tableau, mais a été utilisé pour <strong>créer les clés des dictionnaires</strong>.\n",
    "        </td>\n",
    "    </tr>\n",
    "</table>"
   ]
  },
  {
   "cell_type": "markdown",
   "metadata": {},
   "source": [
    "<table>\n",
    "    <tr>\n",
    "        <td><img src=\"img/refexion.png\"></td>\n",
    "        <td style=\"text-align:left; font-size:14px;\"><strong>DictReader</strong> charge les données dans la table sous la forme de <strong>chaînes de caractères</strong>. Pour les utiliser en tant que nombres, comme les attributs <em>jour</em>, <em>mois</em> et <em>année</em>, pour les comparer ou faire des opérations, il faut les convertir ( on dit aussi transtyper ).\n",
    "<ul>\n",
    "    <li>La fonction int() convertit une donnée en entier.</li>\n",
    "    <li>La fonction float() convertit une donnée en décimal.</li>\n",
    "</ul> \n",
    "On propose le code ci-dessous. <strong>Exécutez-le</strong>.\n",
    "        </td>\n",
    "    </tr>\n",
    "</table>"
   ]
  },
  {
   "cell_type": "code",
   "execution_count": null,
   "metadata": {},
   "outputs": [],
   "source": [
    "def valide(enregistrement):  # Validation des données : transtypage\n",
    "    nom = enregistrement['nom']\n",
    "    prenom = enregistrement[\"prenom\"]\n",
    "    jour = int(enregistrement[\"jour\"])\n",
    "    mois = int(enregistrement[\"mois\"])\n",
    "    annee = int(enregistrement[\"annee\"])\n",
    "    projet = enregistrement[\"projet\"]\n",
    "    return{\"nom\": nom, \"prenom\": prenom, \"jour\": jour, \"mois\": mois, \"annee\": annee, \"projet\": projet}\n",
    "\n",
    "scientifiques = [valide(enregistrement) for enregistrement in scientifiques]\n",
    "print(scientifiques)"
   ]
  },
  {
   "cell_type": "markdown",
   "metadata": {},
   "source": [
    "<table>\n",
    "    <tr>\n",
    "        <td><img src=\"img/refexion.png\"></td>\n",
    "        <td style=\"text-align:left; font-size:14px;\">Vous noterez que les <strong>nombres</strong> situés dans la table <em>scientifiques</em> <strong>ne sont plus entourés par des guillemets</strong> ! \n",
    "        </td>\n",
    "    </tr>\n",
    "</table>"
   ]
  },
  {
   "cell_type": "markdown",
   "metadata": {},
   "source": [
    "### 2.2 Traitement des données\n",
    "Une fois les données chargées dans une table, il devient possible de les **traiter** à l'aide des fonctions de manipulation de tableaux. On peut ainsi réaliser des **opérations** telles que : \n",
    "* extraire des données de la table, \n",
    "* tester la présence de certaines d'entre-elles,\n",
    "* faire des statistiques. "
   ]
  },
  {
   "cell_type": "markdown",
   "metadata": {},
   "source": [
    "<table>\n",
    "    <tr>\n",
    "        <td><img src=\"img/bdd50px.png\"></td>\n",
    "        <td style=\"text-align:left; font-size:14px\">Lorsque nous utiliserons une base de données et le langage  <strong>SQL</strong>, ce type d'opération sera appelé <strong>REQUÊTE</strong>. </td>\n",
    "    </tr>\n",
    " </table>"
   ]
  },
  {
   "cell_type": "markdown",
   "metadata": {},
   "source": [
    "#### Exercice 1. Un prénom est-il présent dans la table ?\n",
    "> On cherche à répondre à une question du type : \"<span style=\"color:blue;font-style:italic\">Y a t'il au moins une personne ayant pour prénom Brian dans la table ?</span>\" <br>\n",
    ">\n",
    "> **Complétez** la fonction ***selection_prenom**(prenom, table)* dans le cadre ci-dessous pour qu'elle renvoie \"Vrai\" si le prénom passé en paramètre est présent dans la table et \"Faux\" sinon.\n",
    ">\n",
    "> *Exemples de résultats attendus*<br>\n",
    "> - Entrer un prénom : Brian <br>\n",
    ">      => Il y a au moins un(e) Brian dans la table. <br>\n",
    "> - Entrer un prénom : Audrey <br>\n",
    ">      => Aucun(e) Audrey n'est dans la table.<br>\n",
    ">\n",
    "> **=> : indique le résultat à renvoyer**"
   ]
  },
  {
   "cell_type": "markdown",
   "metadata": {},
   "source": [
    "<table>\n",
    "    <tr>\n",
    "        <td><img src=\"img/info.png\"></td>\n",
    "        <td style=\"text-align:left; font-size:14px;\">Python est un langage à <strong>typage dynamique</strong>, c'est-à-dire qu'il n'est pas nécessaire de préciser le type des données. Depuis la version 3.5, il est possible de fournir des <strong>indicateurs de type (str,bool, etc.)</strong> lors de la définition des fonctions. Cette possibilité est utilisée dans ce notebook pour faciliter la compréhension du code.\n",
    "        </td>\n",
    "    </tr>\n",
    "</table>"
   ]
  },
  {
   "cell_type": "code",
   "execution_count": null,
   "metadata": {},
   "outputs": [],
   "source": [
    "# CORRECTION\n",
    "def selection_prenom(prenom: str, table: list) -> bool: # prenom est de type chaîne de caractères, table est de type liste, \n",
    "                                                        # la fonction renvoie un booléen\n",
    "    for enregistrement in table:                        # Sélection des enregistrements dans la table\n",
    "        if enregistrement[\"prenom\"].lower() == prenom.lower(): \n",
    "            return True                                 # si le prénom est celui passé en paramètre alors on renvoie Vrai\n",
    "    return False                                        # sinon on renvoie Faux\n",
    "\n",
    "# Affichage à compléter\n",
    "prenom = input(\"Entrer un prénom : \")\n",
    "if (selection_prenom(prenom, scientifiques)):\n",
    "    print(f\"Il y a au moins un(e) {prenom} dans la table.\")\n",
    "else:\n",
    "    print(f\"Aucun(e) {prenom} n'est dans la table.\")"
   ]
  },
  {
   "cell_type": "markdown",
   "metadata": {},
   "source": [
    "<table>\n",
    "    <tr>\n",
    "        <td><img src=\"img/refexion.png\"></td>\n",
    "        <td style=\"text-align:left; font-size:14px;\">La fonction <em><b>selection_prenom</b>(prenom, table)</em> peut être améliorée en renvoyant le nombre de fois qu'un même prénom est présent dans la table. <strong>Faites</strong> cette amélioration en complétant le code de la fonction <em><b>selection_compte_prenom</b>(prenom, table)</em> ci-dessous.\n",
    "        </td>\n",
    "    </tr>\n",
    "</table>"
   ]
  },
  {
   "cell_type": "code",
   "execution_count": null,
   "metadata": {},
   "outputs": [],
   "source": [
    "# CORRECTION\n",
    "def select_compte_prenom(prenom: str, table: list) -> int:  # renvoie le nombre nb d'occurence du prénom dans la table\n",
    "    nb = 0\n",
    "    for enregistrement in table:\n",
    "        if (enregistrement[\"prenom\"]).lower() == prenom.lower():\n",
    "            nb += 1\n",
    "    return nb\n",
    "\n",
    "# Affichage à compléter\n",
    "prenom = input(\"Entrer un prénom : \")\n",
    "print(f\"Il y a {select_compte_prenom(prenom,scientifiques)} {prenom} dans la table\")"
   ]
  },
  {
   "cell_type": "markdown",
   "metadata": {},
   "source": [
    "<table>\n",
    "    <tr>\n",
    "        <td><img src=\"img/bdd50px.png\"></td>\n",
    "        <td style=\"text-align:left; font-size:14px\">Dans le langage SQL la requête <em><strong>SELECT COUNT</strong>(attribut) <strong>FROM</strong> table <strong>WHERE</strong> attribut=valeur</em>, appliquée à la table <em>scientifiques<em> (contenue dans une base de données), donnerait le même résultat. <br><br> Exemple <br><em><strong>SELECT COUNT</strong>(prenom) <strong>FROM</strong> scientifiques <strong>WHERE</strong> prenom=\"Brian\"</em> <br>renvoie 1.</td>\n",
    "        <td><img src=\"img/ex1sql.png\" title=\"Sqlite & VSCode\"></td>\n",
    "    </tr>\n",
    " </table>"
   ]
  },
  {
   "cell_type": "markdown",
   "metadata": {},
   "source": [
    "#### Exercice 2. Sélection du(es) nom(s) correspondant à un prénom<br>\n",
    "> On cherche à répondre à une question du type  : \"<span style=\"color:blue;font-style:italic\">Quel est le nom du(es) scientifique(s) ayant pour prénom Brian ?</span>\" <br>\n",
    ">\n",
    "> **Complétez** la fonction ***selection_nom**(prenom, table)* pour qu'elle renvoie la liste des noms des scientifiques ayant pour prénom celui passé en paramètre.\n",
    ">\n",
    "> *Exemples de résultats attendus*<br>\n",
    "> - Entrer un prénom : Brian => ['Kernighan'] <br>\n",
    "> - Entrer un prénom : Alan => ['Turing', 'Perlis'] <br>\n",
    "> - Entrer un prénom : Audrey => []\n",
    ">\n",
    "> **=> : indique le résultat à renvoyer**"
   ]
  },
  {
   "cell_type": "code",
   "execution_count": null,
   "metadata": {},
   "outputs": [],
   "source": [
    "# CORRECTION\n",
    "def selection_nom(prenom: str, table: list) -> list:\n",
    "    t = [] # tableau recevant le(s) nom(s) correspondant au prénom\n",
    "\n",
    "    for enregistrement in table:\n",
    "        if enregistrement[\"prenom\"].lower() == prenom.lower():\n",
    "            t.append(enregistrement[\"nom\"])\n",
    "\n",
    "    # ou [t.append(enregistrement[\"nom\"]) for enregistrement in table if enregistrement[\"prenom\"] == prenom]\n",
    "    return t\n",
    "\n",
    "# Affichage à compléter\n",
    "prenom = input(\"Entrer un prénom : \")\n",
    "selection_nom(prenom,scientifiques)"
   ]
  },
  {
   "cell_type": "markdown",
   "metadata": {},
   "source": [
    "<table>\n",
    "    <tr>\n",
    "       <td><img src=\"img/bdd50px.png\"></td>\n",
    "        <td style=\"text-align:left; font-size:14px\">Dans le langage SQL la requête <em><strong>SELECT</strong> attribut1, attribut2, ..., attributn <strong>FROM</strong> table <strong>WHERE</strong> attribut=valeur</em>, appliquée à la table <em>scientifiques<em>, donnerait le même résultat.<br><br>Exemple <br> <em><strong>SELECT </strong>nom <strong>FROM</strong> scientifiques</em> <strong>WHERE</strong> prenom=\"Alan\"</em> <br> renvoie Turing, Perlis.</td>\n",
    "        <td><img src=\"img/ex2sql.png\" title=\"Sqlite & VSCode\"></td>\n",
    "    </tr>\n",
    " </table>"
   ]
  },
  {
   "cell_type": "markdown",
   "metadata": {},
   "source": [
    "<table>\n",
    "    <tr>\n",
    "        <td><img src=\"img/refexion.png\"></td>\n",
    "        <td style=\"text-align:left; font-size:14px;\">La fonction <em><b>selection_nom</b>(prenom, table)</em> sélectionne l'attribut <em>nom</em> des personnes avec le même prénom. Dans le prochain exercice, vous allez généraliser ce cas particulier à tous les attributs de la table. \n",
    "        </td>\n",
    "    </tr>\n",
    "</table>"
   ]
  },
  {
   "cell_type": "markdown",
   "metadata": {},
   "source": [
    "#### Exercice 3. Sélection d'un attribut en fonction de la valeur d'un autre<br>\n",
    "> On souhaite répondre aux questions suivantes en utilisant la **même** fonction : <br>\n",
    "> * <span style=\"color:blue;font-style:italic\">Quel est le prénom des scientifiques nés en juin ?</span> \n",
    "> * <span style=\"color:blue;font-style:italic\">Quel est le nom des scientifiques dont le prénom est Alan ?</span>\n",
    "> * <span style=\"color:blue;font-style:italic\">Quel est le nom des scientifiques nés le premier jour du mois ?</span> etc.<br>\n",
    "\n",
    ">**Complétez** la fonction ***selection**(attribut1,table,attribut2,valeur)* pour qu'elle renvoie la liste du ou des attribut1 pour laquelle attribut2 = valeur.\n",
    ">\n",
    "> *Exemples de résultats attendus*<br>\n",
    "> - Prénom des scientifiques nés en juin => ['Alan', 'Blaise'] <br>\n",
    "> - Nom des scientifiques dont le prénom est Alan => ['Turing', 'Perlis'] <br>\n",
    "> - Nom des scientifiques nés le premier jour du mois => ['Kernighan', 'Perlis']\n",
    ">\n",
    "> **=> : indique le résultat à renvoyer**"
   ]
  },
  {
   "cell_type": "code",
   "execution_count": null,
   "metadata": {},
   "outputs": [],
   "source": [
    "# CORRECTION\n",
    "def selection(attribut1: str, table: list, attribut2: str, valeur) -> list:\n",
    "    t = []  # tableau contenant la ou les valeurs de attribut1 pour attribut2 = valeur\n",
    "\n",
    "    for enregistrement in table:\n",
    "        if enregistrement[attribut2] == valeur:\n",
    "            t.append(enregistrement[attribut1])\n",
    "   \n",
    "    # [t.append(enregistrement[attribut1]) for enregistrement in table if enregistrement[attribut2] == valeur]\n",
    "    return t\n",
    "\n",
    "# Affichage à compléter\n",
    "# 1. Prénom des scientifiques nés en juin\n",
    "print(selection(\"prenom\", scientifiques, \"mois\", 6))\n",
    "# 2. Nom des scientifiques dont le prénom est Alan\n",
    "print(selection(\"nom\",scientifiques,\"prenom\",\"Alan\"))\n",
    "# 3. Nom des scientifiques nés le premier jour du mois\n",
    "print(selection(\"nom\", scientifiques, \"jour\", 1))\n"
   ]
  },
  {
   "cell_type": "markdown",
   "metadata": {},
   "source": [
    "<table>\n",
    "    <tr>\n",
    "        <td><img src=\"img/bdd50px.png\"></td>\n",
    "        <td style=\"text-align:left; font-size:14px\">Dans le langage SQL la requête <em><strong>SELECT</strong> attribut1, attribut2, ..., attributn <strong>FROM</strong> table <strong>WHERE</strong> attribut=valeur</em>, appliquée à la table <em>scientifiques<em>, donnerait le même résultat.<br><br> Exemple avec résultat partiel <br> <em><strong>SELECT </strong>nom <strong>FROM</strong> scientifiques <strong>WHERE</strong> mois=6</em> <br>renvoie Alan, Blaise, Tim.</td>\n",
    "        <td><img src=\"img/ex3sql.png\" title=\"Sqlite & VSCode\"></td>\n",
    "    </tr>\n",
    " </table>"
   ]
  },
  {
   "cell_type": "markdown",
   "metadata": {},
   "source": [
    "<table>\n",
    "    <tr>\n",
    "        <td><img src=\"img/refexion.png\"></td>\n",
    "        <td style=\"text-align:left; font-size:14px;\">La fonction <em><b>selection</b>(attribut1,table,attribut2,valeur)</em> renvoie les données de la colonne <em>attribut1</em> pour lesquelles <em>attribut2=valeur</em>. Il pourrait être intéressant de renvoyer des données situées dans plusieurs colonnes. C'est le travail demandé dans le prochain exercice.\n",
    "        </td>\n",
    "    </tr>\n",
    "</table>"
   ]
  },
  {
   "cell_type": "markdown",
   "metadata": {},
   "source": [
    "#### Exercice 4. Sélection de plusieurs attributs en fonction de la valeur d'un autre \n",
    "> On cherche à répondre à une question du type : \"<span style=\"color:blue;font-style:italic\">Quels sont le nom et le prénom des scientifiques nés le premier jour du mois ?</span>\"\n",
    ">\n",
    ">**Complétez** la fonction ***selection2**(lstattrib,table,attribut,valeur)* pour qu'elle renvoie les valeurs des attributs situés dans la liste *lstattrib* si attribut = valeur.\n",
    ">\n",
    "> *Exemples de résultats attendus*<br>\n",
    "> - Nom et prénom des scientifiques nés le premier jour du mois => [['Kernighan', 'Brian'], ['Perlis', 'Alan']]<br>\n",
    "> - Nom, prénom et projet des scientifiques nés en juin => [['Turing', 'Alan', 'codes secrets'], ['Pascal', 'Blaise', 'machine arithmétique']]\n",
    ">\n",
    "> **=> : indique le résultat à renvoyer**"
   ]
  },
  {
   "cell_type": "code",
   "execution_count": null,
   "metadata": {},
   "outputs": [],
   "source": [
    "# A CORRECTION\n",
    "def selection2(lstattrib: list, table: list, attribut: str, valeur) -> list:\n",
    "    t = []\n",
    "    tt = []\n",
    "    for enregistrement in table:\n",
    "        if enregistrement[attribut] == valeur:\n",
    "            for atbut in lstattrib:\n",
    "                t.append(enregistrement[atbut])\n",
    "            tt.append(t.copy())\n",
    "            t.clear()\n",
    "    return tt\n",
    "\n",
    "# Affichage à compléter\n",
    "# 1. Nom des scientifiques dont le prénom est Alan\n",
    "print(selection(\"nom\",scientifiques,\"prenom\",\"Alan\"))\n",
    "# 2. Nom et prénom des scientifiques nés le premier jour du mois\n",
    "t_attributs=[\"nom\",\"prenom\"]\n",
    "print(selection2(t_attributs,scientifiques,\"jour\", 1))\n",
    "# 3. Nom, prénom et projet des scientifiques nés en juin\n",
    "t_attributs=[\"nom\",\"prenom\",\"projet\"]\n",
    "print(selection2(t_attributs,scientifiques,\"mois\", 6))"
   ]
  },
  {
   "cell_type": "markdown",
   "metadata": {},
   "source": [
    "<table>\n",
    "    <tr>\n",
    "       <td><img src=\"img/bdd50px.png\"></td>\n",
    "        <td style=\"text-align:left; font-size:14px\">Dans le langage SQL la requête <em><strong>SELECT</strong> attribut1, attribut2, ..., attributn <strong>FROM</strong> table <strong>WHERE</strong> attribut=valeur</em>, appliquée à la table scientifiques, nous permettrait d'obtenir le même résultat. <br><br> Exemple <br> <em><strong>SELECT </strong>nom, prenom <strong>FROM</strong> scientifiques <strong>WHERE</strong> jour=1</em> <br> renvoie ['Kernighan', 'Brian'], ['Perlis', 'Alan'].</td>\n",
    "        <td><img src=\"img/ex4sql.png\" title=\"Sqlite & VSCode\"></td>\n",
    "    </tr>\n",
    " </table>"
   ]
  },
  {
   "cell_type": "markdown",
   "metadata": {},
   "source": [
    "#### Exercice 5. Sélection d'attributs et comparaisons\n",
    "> On cherche à répondre à une question du type : \"<span style=\"color:blue;font-style:italic\">Quels sont le nom et le prénom des scientifiques nés avant 1900 ?</span>\"\n",
    ">\n",
    "> Les comparaisons à prendre en compte sont : **>, <, ==, >=, <=** et seront notées respectivement 1, 2, 3, 4, et 5.\n",
    ">\n",
    ">**Créez** la fonction ***selection3(lstattrib,table,attribut,comparaison,valeur)*** dans le cadre ci-dessous.<br>\n",
    ">\n",
    "> *Exemples d'affichages attendus*<br>\n",
    "> - Nom et prénom des scientifiques nés avant 1900 => [['Pascal', 'Blaise'], ['Jacquard', 'Joseph Marie']] <br>\n",
    "> - Nom et prénom des scientifiques nés après 1920 => [['Kernighan', 'Brian'], ['Torvald', 'Linus'], ['Knuth', 'Donald'], ['Hamilton', 'Margaret'], ['Perlis', 'Alan']] <br>\n",
    "> - Nom, prénom et projet des scientifiques nés en juin => [['Turing', 'Alan', 'codes secrets'], ['Pascal', 'Blaise', 'machine arithmétique']]"
   ]
  },
  {
   "cell_type": "code",
   "execution_count": null,
   "metadata": {},
   "outputs": [],
   "source": [
    "# CORRECTION Version 1 partielle\n",
    "\n",
    "def selection3(lstattrib: list, table: list, attribut: int, opcomparaison: int, valeur: int) -> list:\n",
    "    t = []\n",
    "    tt = []\n",
    "    for enregistrement in table:\n",
    "        if opcomparaison == 1:  # supérieur\n",
    "            if enregistrement[attribut] > valeur:\n",
    "                for atbut in lstattrib:\n",
    "                    t.append(enregistrement[atbut])\n",
    "                tt.append(t.copy())\n",
    "                t.clear()\n",
    "        elif opcomparaison == 2:  # inférieur \n",
    "            if enregistrement[attribut] < valeur:\n",
    "                for atbut in lstattrib:\n",
    "                    t.append(enregistrement[atbut])\n",
    "                tt.append(t.copy())\n",
    "                t.clear()\n",
    "        elif opcomparaison == 3:  # égale\n",
    "            if enregistrement[attribut] == valeur:\n",
    "                for atbut in lstattrib:\n",
    "                    t.append(enregistrement[atbut])\n",
    "                tt.append(t.copy())\n",
    "                t.clear()\n",
    "        # etc.\n",
    "    return tt\n",
    "\n",
    "# Affichage\n",
    "operation = {\"sup\": 1, \"inf\": 2, \"egal\": 3, \"supegal\": 4, \"infegal\": 5}\n",
    "t_attributs = [\"nom\", \"prenom\"]\n",
    "# 1. Nom et prénom des scientifiques nés avant 1900\n",
    "print(selection3(t_attributs, scientifiques, \"annee\", operation[\"inf\"], 1900))\n",
    "# 2. Nom et prénom des scientifiques nés après 1920\n",
    "print(selection3(t_attributs, scientifiques, \"annee\", operation[\"sup\"], 1920))\n",
    "# 3. Nom, prénom et projet des scientifiques nés en juin\n",
    "t_attributs=[\"nom\",\"prenom\",\"projet\"]\n",
    "print(selection3(t_attributs,scientifiques,\"mois\", operation[\"egal\"], 6))"
   ]
  },
  {
   "cell_type": "markdown",
   "metadata": {},
   "source": [
    "<table>\n",
    "    <tr>\n",
    "        <td><img src=\"img/bdd50px.png\"></td>\n",
    "        <td style=\"text-align:left; font-size:14px\">Dans le langage SQL la requête <em><strong>SELECT</strong> attribut1, attribut2, ..., attributn <strong>FROM</strong> table <strong>WHERE</strong> attribut opcomp valeur</em>, appliquée à la table scientifiques, donnerait le même résultat. <br><br> Exemple avec affichage partiel <br> <em><strong>SELECT </strong>nom, prenom <strong>FROM</strong> scientifiques <strong>WHERE</strong> annee < 1900</em> <br> renvoie ['Pascal', 'Blaise'], ['Jacquard', 'Joseph Marie'], ['Lovelace', 'Ada'], ['Babbage', 'Charles'], ['Boole', 'George'].</td>\n",
    "        <td><img src=\"img/ex5sql.png\"></td>\n",
    "    </tr>\n",
    " </table>"
   ]
  },
  {
   "cell_type": "code",
   "execution_count": null,
   "metadata": {},
   "outputs": [],
   "source": [
    "# Correction Version 2 !!!!\n",
    "\n",
    "tt = [] # liste de listes contenant le résultat de la requête\n",
    "\n",
    "def addenreg(enregistrement: dict, attribut: int, lstattrib: list) -> list:\n",
    "    t = [] # Une sélection prise dans un enregistrement satisfaisant la comparaison\n",
    "           # faite dans selection3\n",
    "    for atbut in lstattrib:\n",
    "        t.append(enregistrement[atbut])\n",
    "    tt.append(t.copy())\n",
    "    t.clear()\n",
    "\n",
    "def selection3V2(lstattrib: list, table: list, attribut: int, opcomparaison: int, valeur: int) -> list:\n",
    "    tt.clear()\n",
    "    for enregistrement in table:\n",
    "        if opcomparaison == 1:  # supérieur\n",
    "            if enregistrement[attribut] > valeur:\n",
    "                addenreg(enregistrement, attribut, lstattrib)\n",
    "        elif opcomparaison == 2:  # inférieur\n",
    "            if enregistrement[attribut] < valeur:\n",
    "                addenreg(enregistrement, attribut, lstattrib)\n",
    "        elif opcomparaison == 3:  #  égal\n",
    "            if enregistrement[attribut] == valeur:\n",
    "                addenreg(enregistrement, attribut, lstattrib)\n",
    "        elif opcomparaison == 4:  # supérieur ou égal\n",
    "            if enregistrement[attribut] >= valeur:\n",
    "                addenreg(enregistrement, attribut, lstattrib)\n",
    "        elif opcomparaison == 5:  # inférieur ou égal\n",
    "            if enregistrement[attribut] <= valeur:\n",
    "                addenreg(enregistrement, attribut, lstattrib)\n",
    "    return tt\n",
    "\n",
    "# Affichage\n",
    "operation = {\"sup\": 1, \"inf\": 2, \"egal\": 3, \"supegal\": 4, \"infegal\": 5}\n",
    "t_attributs = [\"nom\", \"prenom\"]\n",
    "# 1. Nom et prénom des scientifiques nés avant 1900\n",
    "print(selection3V2(t_attributs, scientifiques, \"annee\", operation[\"inf\"], 1900))\n",
    "# 2. Nom et prénom des scientifiques nés après 1920\n",
    "print(selection3V2(t_attributs, scientifiques, \"annee\", operation[\"sup\"], 1920))\n",
    "# 3. Nom, prénom et projet des scientifiques nés en juin\n",
    "t_attributs=[\"nom\",\"prenom\",\"projet\"]\n",
    "print(selection3V2(t_attributs,scientifiques,\"mois\", operation[\"egal\"], 6))"
   ]
  },
  {
   "cell_type": "markdown",
   "metadata": {},
   "source": [
    "#### Activité 6. Sélection d'attributs et encadrements\n",
    "> On souhaite répondre à une question du type : \"<span style=\"color:blue;font-style:italic\">Quels sont le nom et le prénom des scientifiques nés entre 1900 et 1920 ?</span>\"\n",
    ">\n",
    "> Les comparaisons à prendre en compte sont : <strong>aucune, >, <, ==, >=, <=</strong> et seront notées respectivement 0, 1, 2, 3, 4, et 5. <br>\n",
    ">\n",
    "> **Complétez** la fonction ***selection4**(lstattrib,table,attribut,opcomparaisoninf,opcomparaisonsup,valeurmin,valeurmax)* dans le cadre ci-dessous.<br>\n",
    "> - *opcomparaisoninf* : opération de comparaison avec la borne inférieure. <br>\n",
    "> - *opcomparaisonsup* : opération de comparaison avec la borne supérieure. <br>\n",
    ">\n",
    "> *Exemples de résultats attendus*<br>\n",
    "> - Nom et prénom des scientifiques nés avant 1900 => [['Pascal', 'Blaise'], ['Jacquard', 'Joseph Marie']] <br>\n",
    "> - Nom et prénom des scientifiques nés entre 1900 (inclus) et 1920 (inclus) => [['Hopper', 'Grace'], ['Turing', 'Alan']] <br>\n",
    "> - Nom, prénom et date de naissance des scientifiques nés entre le premier (compris) et le 15 (exclus) du mois\n",
    ">     => [['Kernighan', 'Brian', 1, 1, 1942], ['Hopper', 'Grace', 9, 12, 1906], ['Knuth', 'Donald', 10, 1, 1938], ['Perlis', 'Alan', 1, 4, 1922], ['Jacquard', 'Joseph Marie', 7, 7, 1752]]\n",
    ">\n",
    "> **=> : indique le résultat à renvoyer**"
   ]
  },
  {
   "cell_type": "code",
   "execution_count": null,
   "metadata": {},
   "outputs": [],
   "source": [
    "# CORRECTION\n",
    "def selection4(lstattrib: list, table: list, attribut: int, opcomparaisoninf: int, opcomparaisonsup:int, \n",
    "               valeurmin: int, valeurmax: int) -> list:\n",
    "    tt.clear()\n",
    "    for enregistrement in table:\n",
    "        if opcomparaisoninf == 1 and opcomparaisonsup == 0:  # supérieur & aucune\n",
    "            if enregistrement[attribut] > valeurmin:\n",
    "                addenreg(enregistrement, attribut, lstattrib)\n",
    "        elif opcomparaisoninf == 2 and opcomparaisonsup == 0:  # inférieur & aucune\n",
    "            if enregistrement[attribut] < valeurmin:\n",
    "                addenreg(enregistrement, attribut, lstattrib)\n",
    "        elif opcomparaisoninf == 3 and opcomparaisonsup == 0:  # égal & aucune\n",
    "            if enregistrement[attribut] == valeurmin:\n",
    "                addenreg(enregistrement, attribut, lstattrib)\n",
    "        elif opcomparaisoninf == 4 and opcomparaisonsup == 0:  # supérieur ou égal & aucune\n",
    "            if enregistrement[attribut] >= valeurmin:\n",
    "                addenreg(enregistrement, attribut, lstattrib)\n",
    "        elif opcomparaisoninf == 5 and opcomparaisonsup == 0:  # inférieur ou égal & aucune\n",
    "            if enregistrement[attribut] <= valeurmin:\n",
    "                addenreg(enregistrement, attribut, lstattrib)\n",
    "        elif opcomparaisoninf == 4 and opcomparaisonsup == 5:  # supérieur ou égal & inférieur ou égal\n",
    "            if enregistrement[attribut] >= valeurmin and enregistrement[attribut] <= valeurmax:\n",
    "                addenreg(enregistrement, attribut, lstattrib)\n",
    "        elif opcomparaisoninf == 4 and opcomparaisonsup == 2:  # supérieur ou égal & inférieur\n",
    "            if enregistrement[attribut] >= valeurmin and enregistrement[attribut] < valeurmax:\n",
    "                addenreg(enregistrement, attribut, lstattrib)\n",
    "        # etc.\n",
    "    return tt\n",
    "\n",
    "# Affichage\n",
    "operation = {\"aucune\": 0, \"sup\": 1, \"inf\": 2, \"egal\": 3, \"supegal\": 4, \"infegal\": 5}\n",
    "t_attributs = [\"nom\", \"prenom\"]\n",
    "# 1. Nom et prénom des scientifiques nés avant 1900\n",
    "print(selection4(t_attributs, scientifiques, \"annee\", operation[\"inf\"], operation[\"aucune\"], 1900,0))\n",
    "# 2. Nom et prénom des scientifiques nés après 1920\n",
    "print(selection4(t_attributs, scientifiques, \"annee\", operation[\"sup\"], operation[\"aucune\"], 1920 , 0))\n",
    "# 3. Nom et prénom des scientifiques nés entre 1900 et 1920\n",
    "print(selection4(t_attributs, scientifiques, \"annee\", operation[\"supegal\"], operation[\"infegal\"], 1900 , 1920))\n",
    "# 4. Nom, prénom et date de naissance des scientifiques nés entre le premier (compris) et le 15 (exclus) du mois\n",
    "t_attributs = [\"nom\", \"prenom\",\"jour\",\"mois\",\"annee\"]\n",
    "print(selection4(t_attributs, scientifiques, \"jour\", operation[\"supegal\"], operation[\"inf\"], 1 , 15))       "
   ]
  },
  {
   "cell_type": "markdown",
   "metadata": {},
   "source": [
    "<table>\n",
    "    <tr>\n",
    "       <td><img src=\"img/bdd50px.png\"></td>\n",
    "        <td style=\"text-align:left; font-size:14px\">Dans le langage SQL la requête <em><strong>SELECT</strong> attribut1, attribut2, ..., attributn <strong>FROM</strong> table <strong>WHERE</strong> attribut opcomp1 valeur1</em> AND attribut opcomp2 valeur2 </em>, appliquée à scientifiques2, donnerait le même résultat. <br><br> Exemple avec affichage partiel <br> <em><strong>SELECT </strong>nom, prenom <strong>FROM</strong> scientifiques2 <strong>WHERE</strong> annee >= 1900 AND annee <= 1920</em> <br> renvoie ['Hopper', 'Grace'], ['Turing', 'Alan'], ['Shannon', 'Claude'].</td>\n",
    "        <td><img src=\"img/ex6sql.png\"></td>\n",
    "    </tr>\n",
    " </table>"
   ]
  },
  {
   "cell_type": "code",
   "execution_count": null,
   "metadata": {},
   "outputs": [],
   "source": []
  }
 ],
 "metadata": {
  "kernelspec": {
   "display_name": "Python 3 (ipykernel)",
   "language": "python",
   "name": "python3"
  },
  "language_info": {
   "codemirror_mode": {
    "name": "ipython",
    "version": 3
   },
   "file_extension": ".py",
   "mimetype": "text/x-python",
   "name": "python",
   "nbconvert_exporter": "python",
   "pygments_lexer": "ipython3",
   "version": "3.12.4"
  }
 },
 "nbformat": 4,
 "nbformat_minor": 4
}
